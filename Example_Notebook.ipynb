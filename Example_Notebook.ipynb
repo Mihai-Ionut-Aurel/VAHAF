{
 "cells": [
  {
   "cell_type": "code",
   "execution_count": 9,
   "metadata": {
    "collapsed": true
   },
   "outputs": [],
   "source": [
    "from Utilities.ITunesAPI.ITunesSearchFunctions import *\n",
    "from Utilities.stackexchange.stack_helper_functions import *\n",
    "import numpy as np # linear algebra\n",
    "import pandas as pd # data processing, CSV file I/O (e.g. pd.read_csv)\n",
    "import matplotlib.pyplot as plt # for plots and visualizations\n",
    "import random\n",
    "import os\n",
    "%matplotlib inline\n",
    "root = 'Data'"
   ]
  },
  {
   "cell_type": "markdown",
   "metadata": {},
   "source": [
    "### First, import the data from Itunes store"
   ]
  },
  {
   "cell_type": "code",
   "execution_count": 11,
   "metadata": {
    "collapsed": true
   },
   "outputs": [],
   "source": [
    "itunes_siri=siri_app_itunes('Siri',10)\n",
    "itunes_google_assistant=siri_app_itunes('Google Assistant',10)"
   ]
  },
  {
   "cell_type": "code",
   "execution_count": 12,
   "metadata": {},
   "outputs": [
    {
     "name": "stdout",
     "output_type": "stream",
     "text": [
      "558\n",
      "28\n"
     ]
    }
   ],
   "source": [
    "print(len(itunes_siri))\n",
    "print(len(itunes_google_assistant))"
   ]
  },
  {
   "cell_type": "markdown",
   "metadata": {},
   "source": [
    "The function above searches on the Itunes store for apps that mention Siri or Google Assistant.\n",
    "\n",
    "After we got this data,lets import it into pandas"
   ]
  },
  {
   "cell_type": "code",
   "execution_count": 13,
   "metadata": {},
   "outputs": [
    {
     "data": {
      "text/html": [
       "<div>\n",
       "<style>\n",
       "    .dataframe thead tr:only-child th {\n",
       "        text-align: right;\n",
       "    }\n",
       "\n",
       "    .dataframe thead th {\n",
       "        text-align: left;\n",
       "    }\n",
       "\n",
       "    .dataframe tbody tr th {\n",
       "        vertical-align: top;\n",
       "    }\n",
       "</style>\n",
       "<table border=\"1\" class=\"dataframe\">\n",
       "  <thead>\n",
       "    <tr style=\"text-align: right;\">\n",
       "      <th></th>\n",
       "      <th>_StoreAppData__id</th>\n",
       "      <th>_StoreAppData__languages</th>\n",
       "      <th>_StoreAppData__name</th>\n",
       "      <th>_StoreAppData__rating</th>\n",
       "      <th>_StoreAppData__ratings_count</th>\n",
       "      <th>_StoreAppData__ratings_count_curr</th>\n",
       "      <th>_StoreAppData__ratings_curr_ver</th>\n",
       "      <th>_StoreAppData__release_date</th>\n",
       "      <th>_StoreAppData__supported_devices</th>\n",
       "      <th>_StoreAppData__url</th>\n",
       "    </tr>\n",
       "  </thead>\n",
       "  <tbody>\n",
       "    <tr>\n",
       "      <th>499</th>\n",
       "      <td>1138676603</td>\n",
       "      <td>[EN]</td>\n",
       "      <td>b'All-iN-BOX \\xd0\\x9f\\xd0\\xbe\\xd0\\xba\\xd1\\x83\\...</td>\n",
       "      <td>NaN</td>\n",
       "      <td>NaN</td>\n",
       "      <td>NaN</td>\n",
       "      <td>NaN</td>\n",
       "      <td>2016-09-12</td>\n",
       "      <td>[iPad2Wifi-iPad2Wifi, iPad23G-iPad23G, iPhone4...</td>\n",
       "      <td>https://itunes.apple.com/us/app/all-in-box-%D0...</td>\n",
       "    </tr>\n",
       "  </tbody>\n",
       "</table>\n",
       "</div>"
      ],
      "text/plain": [
       "     _StoreAppData__id _StoreAppData__languages  \\\n",
       "499         1138676603                     [EN]   \n",
       "\n",
       "                                   _StoreAppData__name  _StoreAppData__rating  \\\n",
       "499  b'All-iN-BOX \\xd0\\x9f\\xd0\\xbe\\xd0\\xba\\xd1\\x83\\...                    NaN   \n",
       "\n",
       "     _StoreAppData__ratings_count  _StoreAppData__ratings_count_curr  \\\n",
       "499                           NaN                                NaN   \n",
       "\n",
       "     _StoreAppData__ratings_curr_ver _StoreAppData__release_date  \\\n",
       "499                              NaN                  2016-09-12   \n",
       "\n",
       "                      _StoreAppData__supported_devices  \\\n",
       "499  [iPad2Wifi-iPad2Wifi, iPad23G-iPad23G, iPhone4...   \n",
       "\n",
       "                                    _StoreAppData__url  \n",
       "499  https://itunes.apple.com/us/app/all-in-box-%D0...  "
      ]
     },
     "execution_count": 13,
     "metadata": {},
     "output_type": "execute_result"
    }
   ],
   "source": [
    "df_siri = pd.DataFrame([vars(f) for f in itunes_siri])\n",
    "df_siri.sample(1)"
   ]
  },
  {
   "cell_type": "code",
   "execution_count": 18,
   "metadata": {
    "scrolled": true
   },
   "outputs": [
    {
     "data": {
      "text/html": [
       "<div>\n",
       "<style>\n",
       "    .dataframe thead tr:only-child th {\n",
       "        text-align: right;\n",
       "    }\n",
       "\n",
       "    .dataframe thead th {\n",
       "        text-align: left;\n",
       "    }\n",
       "\n",
       "    .dataframe tbody tr th {\n",
       "        vertical-align: top;\n",
       "    }\n",
       "</style>\n",
       "<table border=\"1\" class=\"dataframe\">\n",
       "  <thead>\n",
       "    <tr style=\"text-align: right;\">\n",
       "      <th></th>\n",
       "      <th>_StoreAppData__id</th>\n",
       "      <th>_StoreAppData__languages</th>\n",
       "      <th>_StoreAppData__name</th>\n",
       "      <th>_StoreAppData__rating</th>\n",
       "      <th>_StoreAppData__ratings_count</th>\n",
       "      <th>_StoreAppData__ratings_count_curr</th>\n",
       "      <th>_StoreAppData__ratings_curr_ver</th>\n",
       "      <th>_StoreAppData__release_date</th>\n",
       "      <th>_StoreAppData__supported_devices</th>\n",
       "      <th>_StoreAppData__url</th>\n",
       "    </tr>\n",
       "  </thead>\n",
       "  <tbody>\n",
       "    <tr>\n",
       "      <th>7</th>\n",
       "      <td>1210331255</td>\n",
       "      <td>[EN]</td>\n",
       "      <td>b'Ask for Google Assistant App'</td>\n",
       "      <td>4.5</td>\n",
       "      <td>11.0</td>\n",
       "      <td>1.0</td>\n",
       "      <td>5.0</td>\n",
       "      <td>2017-03-23</td>\n",
       "      <td>[iPad2Wifi-iPad2Wifi, iPad23G-iPad23G, iPhone4...</td>\n",
       "      <td>https://itunes.apple.com/us/app/ask-for-google...</td>\n",
       "    </tr>\n",
       "  </tbody>\n",
       "</table>\n",
       "</div>"
      ],
      "text/plain": [
       "   _StoreAppData__id _StoreAppData__languages  \\\n",
       "7         1210331255                     [EN]   \n",
       "\n",
       "               _StoreAppData__name  _StoreAppData__rating  \\\n",
       "7  b'Ask for Google Assistant App'                    4.5   \n",
       "\n",
       "   _StoreAppData__ratings_count  _StoreAppData__ratings_count_curr  \\\n",
       "7                          11.0                                1.0   \n",
       "\n",
       "   _StoreAppData__ratings_curr_ver _StoreAppData__release_date  \\\n",
       "7                              5.0                  2017-03-23   \n",
       "\n",
       "                    _StoreAppData__supported_devices  \\\n",
       "7  [iPad2Wifi-iPad2Wifi, iPad23G-iPad23G, iPhone4...   \n",
       "\n",
       "                                  _StoreAppData__url  \n",
       "7  https://itunes.apple.com/us/app/ask-for-google...  "
      ]
     },
     "execution_count": 18,
     "metadata": {},
     "output_type": "execute_result"
    }
   ],
   "source": [
    "df_google_assistant = pd.DataFrame([vars(f) for f in itunes_google_assistant])\n",
    "df_google_assistant.sample(1)"
   ]
  },
  {
   "cell_type": "code",
   "execution_count": 19,
   "metadata": {
    "collapsed": true
   },
   "outputs": [],
   "source": [
    "df_siri.to_csv(os.path.join(root, 'siri_raw.csv'), encoding='utf-8', index=False)\n",
    "df_siri.to_csv(os.path.join(root, 'google_assistant_itunes_raw.csv'), encoding='utf-8', index=False)"
   ]
  },
  {
   "cell_type": "code",
   "execution_count": 61,
   "metadata": {
    "scrolled": true
   },
   "outputs": [],
   "source": [
    "df_google_assistant=df_google_assistant.assign(_StoreAppData__languages_count=([len(item) for item in df_google_assistant['_StoreAppData__languages']]))\n",
    "df_google_assistant=df_google_assistant.assign(_StoreAppData__supported_devices_count=([len(item) for item in df_google_assistant['_StoreAppData__supported_devices']]))"
   ]
  },
  {
   "cell_type": "code",
   "execution_count": 62,
   "metadata": {},
   "outputs": [],
   "source": [
    "df_siri=df_siri.assign(_StoreAppData__languages_count=([len(item) for item in df_siri['_StoreAppData__languages']]))\n",
    "df_siri=df_siri.assign(_StoreAppData__supported_devices_count=([len(item) for item in df_siri['_StoreAppData__supported_devices']]))"
   ]
  },
  {
   "cell_type": "code",
   "execution_count": 63,
   "metadata": {
    "collapsed": true
   },
   "outputs": [],
   "source": [
    "df_siri.to_csv(os.path.join(root, 'siri_processed.csv'), encoding='utf-8', index=False)\n",
    "df_siri.to_csv(os.path.join(root, 'google_assistant_itunes_processed.csv'), encoding='utf-8', index=False)"
   ]
  },
  {
   "cell_type": "code",
   "execution_count": null,
   "metadata": {
    "collapsed": true
   },
   "outputs": [],
   "source": []
  }
 ],
 "metadata": {
  "kernelspec": {
   "display_name": "Python 3",
   "language": "python",
   "name": "python3"
  },
  "language_info": {
   "codemirror_mode": {
    "name": "ipython",
    "version": 3
   },
   "file_extension": ".py",
   "mimetype": "text/x-python",
   "name": "python",
   "nbconvert_exporter": "python",
   "pygments_lexer": "ipython3",
   "version": "3.6.2"
  }
 },
 "nbformat": 4,
 "nbformat_minor": 1
}
