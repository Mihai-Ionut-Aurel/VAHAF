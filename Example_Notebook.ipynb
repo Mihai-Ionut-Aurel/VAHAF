{
 "cells": [
  {
   "cell_type": "code",
   "execution_count": 1,
   "metadata": {
    "collapsed": true
   },
   "outputs": [],
   "source": [
    "from Utilities.ITunesAPI.ITunesSearchFunctions import *\n",
    "from Utilities.stackexchange.stack_helper_functions import *\n",
    "import numpy as np # linear algebra\n",
    "import pandas as pd # data processing, CSV file I/O (e.g. pd.read_csv)\n",
    "import matplotlib.pyplot as plt # for plots and visualizations\n",
    "import random\n",
    "import os\n",
    "%matplotlib inline\n",
    "root = 'Data'"
   ]
  },
  {
   "cell_type": "markdown",
   "metadata": {},
   "source": [
    "### First, import the data from Itunes store"
   ]
  },
  {
   "cell_type": "code",
   "execution_count": 2,
   "metadata": {
    "collapsed": true
   },
   "outputs": [],
   "source": [
    "itunes_siri=siri_app_itunes('Siri',10)\n",
    "itunes_google_assistant=siri_app_itunes('Google Assistant',10)\n",
    "itunes_alexa=siri_app_itunes('Alexa',10)\n"
   ]
  },
  {
   "cell_type": "code",
   "execution_count": 3,
   "metadata": {},
   "outputs": [
    {
     "name": "stdout",
     "output_type": "stream",
     "text": [
      "558\n",
      "28\n",
      "262\n"
     ]
    }
   ],
   "source": [
    "print(len(itunes_siri))\n",
    "print(len(itunes_google_assistant))\n",
    "print(len(itunes_alexa))"
   ]
  },
  {
   "cell_type": "markdown",
   "metadata": {},
   "source": [
    "The function above searches on the Itunes store for apps that mention Siri or Google Assistant.\n",
    "\n",
    "After we got this data,lets import it into pandas"
   ]
  },
  {
   "cell_type": "code",
   "execution_count": 3,
   "metadata": {},
   "outputs": [
    {
     "data": {
      "text/html": [
       "<div>\n",
       "<style>\n",
       "    .dataframe thead tr:only-child th {\n",
       "        text-align: right;\n",
       "    }\n",
       "\n",
       "    .dataframe thead th {\n",
       "        text-align: left;\n",
       "    }\n",
       "\n",
       "    .dataframe tbody tr th {\n",
       "        vertical-align: top;\n",
       "    }\n",
       "</style>\n",
       "<table border=\"1\" class=\"dataframe\">\n",
       "  <thead>\n",
       "    <tr style=\"text-align: right;\">\n",
       "      <th></th>\n",
       "      <th>_StoreAppData__id</th>\n",
       "      <th>_StoreAppData__languages</th>\n",
       "      <th>_StoreAppData__name</th>\n",
       "      <th>_StoreAppData__rating</th>\n",
       "      <th>_StoreAppData__ratings_count</th>\n",
       "      <th>_StoreAppData__ratings_count_curr</th>\n",
       "      <th>_StoreAppData__ratings_curr_ver</th>\n",
       "      <th>_StoreAppData__release_date</th>\n",
       "      <th>_StoreAppData__supported_devices</th>\n",
       "      <th>_StoreAppData__url</th>\n",
       "    </tr>\n",
       "  </thead>\n",
       "  <tbody>\n",
       "    <tr>\n",
       "      <th>73</th>\n",
       "      <td>594763296</td>\n",
       "      <td>[NL, EN, FR, DE, ES]</td>\n",
       "      <td>b'Ring4 - Phone Number, Texts &amp; Calls, Call Re...</td>\n",
       "      <td>4.0</td>\n",
       "      <td>475.0</td>\n",
       "      <td>36.0</td>\n",
       "      <td>3.5</td>\n",
       "      <td>2013-05-20</td>\n",
       "      <td>[iPhone5-iPhone5, iPadFourthGen-iPadFourthGen,...</td>\n",
       "      <td>https://itunes.apple.com/us/app/ring4-phone-nu...</td>\n",
       "    </tr>\n",
       "  </tbody>\n",
       "</table>\n",
       "</div>"
      ],
      "text/plain": [
       "    _StoreAppData__id _StoreAppData__languages  \\\n",
       "73          594763296     [NL, EN, FR, DE, ES]   \n",
       "\n",
       "                                  _StoreAppData__name  _StoreAppData__rating  \\\n",
       "73  b'Ring4 - Phone Number, Texts & Calls, Call Re...                    4.0   \n",
       "\n",
       "    _StoreAppData__ratings_count  _StoreAppData__ratings_count_curr  \\\n",
       "73                         475.0                               36.0   \n",
       "\n",
       "    _StoreAppData__ratings_curr_ver _StoreAppData__release_date  \\\n",
       "73                              3.5                  2013-05-20   \n",
       "\n",
       "                     _StoreAppData__supported_devices  \\\n",
       "73  [iPhone5-iPhone5, iPadFourthGen-iPadFourthGen,...   \n",
       "\n",
       "                                   _StoreAppData__url  \n",
       "73  https://itunes.apple.com/us/app/ring4-phone-nu...  "
      ]
     },
     "execution_count": 3,
     "metadata": {},
     "output_type": "execute_result"
    }
   ],
   "source": [
    "df_siri = pd.DataFrame([vars(f) for f in itunes_siri])\n",
    "df_siri.sample(1)"
   ]
  },
  {
   "cell_type": "code",
   "execution_count": 4,
   "metadata": {
    "scrolled": true
   },
   "outputs": [
    {
     "data": {
      "text/html": [
       "<div>\n",
       "<style>\n",
       "    .dataframe thead tr:only-child th {\n",
       "        text-align: right;\n",
       "    }\n",
       "\n",
       "    .dataframe thead th {\n",
       "        text-align: left;\n",
       "    }\n",
       "\n",
       "    .dataframe tbody tr th {\n",
       "        vertical-align: top;\n",
       "    }\n",
       "</style>\n",
       "<table border=\"1\" class=\"dataframe\">\n",
       "  <thead>\n",
       "    <tr style=\"text-align: right;\">\n",
       "      <th></th>\n",
       "      <th>_StoreAppData__id</th>\n",
       "      <th>_StoreAppData__languages</th>\n",
       "      <th>_StoreAppData__name</th>\n",
       "      <th>_StoreAppData__rating</th>\n",
       "      <th>_StoreAppData__ratings_count</th>\n",
       "      <th>_StoreAppData__ratings_count_curr</th>\n",
       "      <th>_StoreAppData__ratings_curr_ver</th>\n",
       "      <th>_StoreAppData__release_date</th>\n",
       "      <th>_StoreAppData__supported_devices</th>\n",
       "      <th>_StoreAppData__url</th>\n",
       "    </tr>\n",
       "  </thead>\n",
       "  <tbody>\n",
       "    <tr>\n",
       "      <th>16</th>\n",
       "      <td>1212373666</td>\n",
       "      <td>[EN]</td>\n",
       "      <td>b'Echgo - for Amazon Alexa'</td>\n",
       "      <td>3.5</td>\n",
       "      <td>7.0</td>\n",
       "      <td>NaN</td>\n",
       "      <td>NaN</td>\n",
       "      <td>2017-06-06</td>\n",
       "      <td>[iPad2Wifi-iPad2Wifi, iPad23G-iPad23G, iPhone4...</td>\n",
       "      <td>https://itunes.apple.com/us/app/echgo-for-amaz...</td>\n",
       "    </tr>\n",
       "  </tbody>\n",
       "</table>\n",
       "</div>"
      ],
      "text/plain": [
       "    _StoreAppData__id _StoreAppData__languages          _StoreAppData__name  \\\n",
       "16         1212373666                     [EN]  b'Echgo - for Amazon Alexa'   \n",
       "\n",
       "    _StoreAppData__rating  _StoreAppData__ratings_count  \\\n",
       "16                    3.5                           7.0   \n",
       "\n",
       "    _StoreAppData__ratings_count_curr  _StoreAppData__ratings_curr_ver  \\\n",
       "16                                NaN                              NaN   \n",
       "\n",
       "   _StoreAppData__release_date  \\\n",
       "16                  2017-06-06   \n",
       "\n",
       "                     _StoreAppData__supported_devices  \\\n",
       "16  [iPad2Wifi-iPad2Wifi, iPad23G-iPad23G, iPhone4...   \n",
       "\n",
       "                                   _StoreAppData__url  \n",
       "16  https://itunes.apple.com/us/app/echgo-for-amaz...  "
      ]
     },
     "execution_count": 4,
     "metadata": {},
     "output_type": "execute_result"
    }
   ],
   "source": [
    "df_google_assistant = pd.DataFrame([vars(f) for f in itunes_google_assistant])\n",
    "df_google_assistant.sample(1)"
   ]
  },
  {
   "cell_type": "code",
   "execution_count": 5,
   "metadata": {},
   "outputs": [
    {
     "data": {
      "text/html": [
       "<div>\n",
       "<style>\n",
       "    .dataframe thead tr:only-child th {\n",
       "        text-align: right;\n",
       "    }\n",
       "\n",
       "    .dataframe thead th {\n",
       "        text-align: left;\n",
       "    }\n",
       "\n",
       "    .dataframe tbody tr th {\n",
       "        vertical-align: top;\n",
       "    }\n",
       "</style>\n",
       "<table border=\"1\" class=\"dataframe\">\n",
       "  <thead>\n",
       "    <tr style=\"text-align: right;\">\n",
       "      <th></th>\n",
       "      <th>_StoreAppData__id</th>\n",
       "      <th>_StoreAppData__languages</th>\n",
       "      <th>_StoreAppData__name</th>\n",
       "      <th>_StoreAppData__rating</th>\n",
       "      <th>_StoreAppData__ratings_count</th>\n",
       "      <th>_StoreAppData__ratings_count_curr</th>\n",
       "      <th>_StoreAppData__ratings_curr_ver</th>\n",
       "      <th>_StoreAppData__release_date</th>\n",
       "      <th>_StoreAppData__supported_devices</th>\n",
       "      <th>_StoreAppData__url</th>\n",
       "    </tr>\n",
       "  </thead>\n",
       "  <tbody>\n",
       "    <tr>\n",
       "      <th>206</th>\n",
       "      <td>1107454212</td>\n",
       "      <td>[EN]</td>\n",
       "      <td>b'Reading World'</td>\n",
       "      <td>NaN</td>\n",
       "      <td>NaN</td>\n",
       "      <td>NaN</td>\n",
       "      <td>NaN</td>\n",
       "      <td>2016-04-27</td>\n",
       "      <td>[iPad2Wifi-iPad2Wifi, iPad23G-iPad23G, iPhone4...</td>\n",
       "      <td>https://itunes.apple.com/us/app/reading-world/...</td>\n",
       "    </tr>\n",
       "  </tbody>\n",
       "</table>\n",
       "</div>"
      ],
      "text/plain": [
       "     _StoreAppData__id _StoreAppData__languages _StoreAppData__name  \\\n",
       "206         1107454212                     [EN]    b'Reading World'   \n",
       "\n",
       "     _StoreAppData__rating  _StoreAppData__ratings_count  \\\n",
       "206                    NaN                           NaN   \n",
       "\n",
       "     _StoreAppData__ratings_count_curr  _StoreAppData__ratings_curr_ver  \\\n",
       "206                                NaN                              NaN   \n",
       "\n",
       "    _StoreAppData__release_date  \\\n",
       "206                  2016-04-27   \n",
       "\n",
       "                      _StoreAppData__supported_devices  \\\n",
       "206  [iPad2Wifi-iPad2Wifi, iPad23G-iPad23G, iPhone4...   \n",
       "\n",
       "                                    _StoreAppData__url  \n",
       "206  https://itunes.apple.com/us/app/reading-world/...  "
      ]
     },
     "execution_count": 5,
     "metadata": {},
     "output_type": "execute_result"
    }
   ],
   "source": [
    "df_alexa = pd.DataFrame([vars(f) for f in itunes_alexa])\n",
    "df_alexa.sample(1)"
   ]
  },
  {
   "cell_type": "code",
   "execution_count": 7,
   "metadata": {
    "collapsed": true
   },
   "outputs": [],
   "source": [
    "df_siri.to_csv(os.path.join(root, 'siri_raw.csv'), encoding='utf-8', index=False)\n",
    "df_google_assistant.to_csv(os.path.join(root, 'google_assistant_itunes_raw.csv'), encoding='utf-8', index=False)\n",
    "df_alexa.to_csv(os.path.join(root, 'alexa_raw.csv'), encoding='utf-8', index=False)"
   ]
  },
  {
   "cell_type": "code",
   "execution_count": 8,
   "metadata": {
    "collapsed": true,
    "scrolled": true
   },
   "outputs": [],
   "source": [
    "df_google_assistant=df_google_assistant.assign(_StoreAppData__languages_count=([len(item) for item in df_google_assistant['_StoreAppData__languages']]))\n",
    "df_google_assistant=df_google_assistant.assign(_StoreAppData__supported_devices_count=([len(item) for item in df_google_assistant['_StoreAppData__supported_devices']]))"
   ]
  },
  {
   "cell_type": "code",
   "execution_count": 9,
   "metadata": {
    "collapsed": true
   },
   "outputs": [],
   "source": [
    "df_siri=df_siri.assign(_StoreAppData__languages_count=([len(item) for item in df_siri['_StoreAppData__languages']]))\n",
    "df_siri=df_siri.assign(_StoreAppData__supported_devices_count=([len(item) for item in df_siri['_StoreAppData__supported_devices']]))"
   ]
  },
  {
   "cell_type": "code",
   "execution_count": 10,
   "metadata": {
    "collapsed": true
   },
   "outputs": [],
   "source": [
    "df_alexa=df_alexa.assign(_StoreAppData__languages_count=([len(item) for item in df_alexa['_StoreAppData__languages']]))\n",
    "df_alexa=df_alexa.assign(_StoreAppData__supported_devices_count=([len(item) for item in df_alexa['_StoreAppData__supported_devices']]))"
   ]
  },
  {
   "cell_type": "code",
   "execution_count": 11,
   "metadata": {
    "collapsed": true
   },
   "outputs": [],
   "source": [
    "df_siri.to_csv(os.path.join(root, 'siri_processed.csv'), encoding='utf-8', index=False)\n",
    "df_google_assistant.to_csv(os.path.join(root, 'google_assistant_itunes_processed.csv'), encoding='utf-8', index=False)\n",
    "df_alexa.to_csv(os.path.join(root, 'alexa_processed.csv'), encoding='utf-8', index=False)"
   ]
  },
  {
   "cell_type": "code",
   "execution_count": 12,
   "metadata": {
    "collapsed": true
   },
   "outputs": [],
   "source": [
    "df_siri.nlargest(100,'_StoreAppData__ratings_count').to_csv(os.path.join(root, 'siri_top_100_rating.csv'), encoding='utf-8', index=False)"
   ]
  },
  {
   "cell_type": "markdown",
   "metadata": {
    "collapsed": true
   },
   "source": [
    "Get the mean of the ratings for each of the Assistants"
   ]
  },
  {
   "cell_type": "code",
   "execution_count": 13,
   "metadata": {},
   "outputs": [
    {
     "name": "stdout",
     "output_type": "stream",
     "text": [
      "36650.4219269\n",
      "3524.3125\n",
      "613.43902439\n"
     ]
    }
   ],
   "source": [
    "print(df_siri['_StoreAppData__ratings_count'].mean())\n",
    "print(df_google_assistant['_StoreAppData__ratings_count'].mean())\n",
    "print(df_alexa['_StoreAppData__ratings_count'].mean())"
   ]
  },
  {
   "cell_type": "code",
   "execution_count": 14,
   "metadata": {},
   "outputs": [
    {
     "name": "stdout",
     "output_type": "stream",
     "text": [
      "4.0415282392\n",
      "4.28125\n",
      "3.68292682927\n"
     ]
    }
   ],
   "source": [
    "print(df_siri['_StoreAppData__rating'].mean())\n",
    "print(df_google_assistant['_StoreAppData__rating'].mean())\n",
    "print(df_alexa['_StoreAppData__rating'].mean())"
   ]
  },
  {
   "cell_type": "code",
   "execution_count": 32,
   "metadata": {
    "collapsed": true
   },
   "outputs": [],
   "source": [
    "android_stack=search_questions('android',100)\n",
    "ios_stack=search_questions('ios',100)\n",
    "aws_stack=search_questions('amazon-web-services',100)"
   ]
  },
  {
   "cell_type": "code",
   "execution_count": 22,
   "metadata": {
    "collapsed": true
   },
   "outputs": [],
   "source": [
    "android_stack_json=questions_to_json(android_stack)\n",
    "ios_stack_json=questions_to_json(ios_stack)\n",
    "aws_stack_json=questions_to_json(aws_stack)"
   ]
  },
  {
   "cell_type": "code",
   "execution_count": 23,
   "metadata": {
    "collapsed": true
   },
   "outputs": [],
   "source": [
    "from pandas.io.json import json_normalize"
   ]
  },
  {
   "cell_type": "code",
   "execution_count": 26,
   "metadata": {
    "collapsed": true
   },
   "outputs": [],
   "source": [
    "df_android = json_normalize(android_stack_json)"
   ]
  },
  {
   "cell_type": "code",
   "execution_count": 33,
   "metadata": {},
   "outputs": [
    {
     "name": "stdout",
     "output_type": "stream",
     "text": [
      "3000\n",
      "3000\n",
      "1950\n"
     ]
    }
   ],
   "source": [
    "print(len(android_stack))\n",
    "print(len(ios_stack))\n",
    "print(len(aws_stack))"
   ]
  },
  {
   "cell_type": "code",
   "execution_count": 34,
   "metadata": {
    "collapsed": true
   },
   "outputs": [],
   "source": [
    "google_assistant_stack=search_questions('google-assistant-sdk',100)\n",
    "siri_stack=search_questions('siri',100)\n",
    "alexa_stack=search_questions('alexa',100)"
   ]
  },
  {
   "cell_type": "code",
   "execution_count": 35,
   "metadata": {},
   "outputs": [
    {
     "name": "stdout",
     "output_type": "stream",
     "text": [
      "47\n",
      "5\n",
      "78\n"
     ]
    }
   ],
   "source": [
    "print(len(google_assistant_stack))\n",
    "print(len(siri_stack))\n",
    "print(len(alexa_stack))"
   ]
  },
  {
   "cell_type": "code",
   "execution_count": 12,
   "metadata": {},
   "outputs": [
    {
     "data": {
      "text/html": [
       "<div>\n",
       "<style>\n",
       "    .dataframe thead tr:only-child th {\n",
       "        text-align: right;\n",
       "    }\n",
       "\n",
       "    .dataframe thead th {\n",
       "        text-align: left;\n",
       "    }\n",
       "\n",
       "    .dataframe tbody tr th {\n",
       "        vertical-align: top;\n",
       "    }\n",
       "</style>\n",
       "<table border=\"1\" class=\"dataframe\">\n",
       "  <thead>\n",
       "    <tr style=\"text-align: right;\">\n",
       "      <th></th>\n",
       "      <th>_StoreAppData__id</th>\n",
       "      <th>_StoreAppData__languages</th>\n",
       "      <th>_StoreAppData__name</th>\n",
       "      <th>_StoreAppData__rating</th>\n",
       "      <th>_StoreAppData__ratings_count</th>\n",
       "      <th>_StoreAppData__ratings_count_curr</th>\n",
       "      <th>_StoreAppData__ratings_curr_ver</th>\n",
       "      <th>_StoreAppData__release_date</th>\n",
       "      <th>_StoreAppData__supported_devices</th>\n",
       "      <th>_StoreAppData__url</th>\n",
       "    </tr>\n",
       "  </thead>\n",
       "  <tbody>\n",
       "    <tr>\n",
       "      <th>145</th>\n",
       "      <td>1123797214</td>\n",
       "      <td>[EN, ES]</td>\n",
       "      <td>b'InstaFit - Home Workouts'</td>\n",
       "      <td>4.5</td>\n",
       "      <td>104.0</td>\n",
       "      <td>6.0</td>\n",
       "      <td>3.0</td>\n",
       "      <td>2016-07-04</td>\n",
       "      <td>[iPad2Wifi-iPad2Wifi, iPad23G-iPad23G, iPhone4...</td>\n",
       "      <td>https://itunes.apple.com/us/app/instafit-home-...</td>\n",
       "    </tr>\n",
       "  </tbody>\n",
       "</table>\n",
       "</div>"
      ],
      "text/plain": [
       "     _StoreAppData__id _StoreAppData__languages          _StoreAppData__name  \\\n",
       "145         1123797214                 [EN, ES]  b'InstaFit - Home Workouts'   \n",
       "\n",
       "     _StoreAppData__rating  _StoreAppData__ratings_count  \\\n",
       "145                    4.5                         104.0   \n",
       "\n",
       "     _StoreAppData__ratings_count_curr  _StoreAppData__ratings_curr_ver  \\\n",
       "145                                6.0                              3.0   \n",
       "\n",
       "    _StoreAppData__release_date  \\\n",
       "145                  2016-07-04   \n",
       "\n",
       "                      _StoreAppData__supported_devices  \\\n",
       "145  [iPad2Wifi-iPad2Wifi, iPad23G-iPad23G, iPhone4...   \n",
       "\n",
       "                                    _StoreAppData__url  \n",
       "145  https://itunes.apple.com/us/app/instafit-home-...  "
      ]
     },
     "execution_count": 12,
     "metadata": {},
     "output_type": "execute_result"
    }
   ],
   "source": [
    "df_siri.sample(1)"
   ]
  },
  {
   "cell_type": "code",
   "execution_count": 17,
   "metadata": {},
   "outputs": [
    {
     "data": {
      "text/html": [
       "<div>\n",
       "<style>\n",
       "    .dataframe thead tr:only-child th {\n",
       "        text-align: right;\n",
       "    }\n",
       "\n",
       "    .dataframe thead th {\n",
       "        text-align: left;\n",
       "    }\n",
       "\n",
       "    .dataframe tbody tr th {\n",
       "        vertical-align: top;\n",
       "    }\n",
       "</style>\n",
       "<table border=\"1\" class=\"dataframe\">\n",
       "  <thead>\n",
       "    <tr style=\"text-align: right;\">\n",
       "      <th></th>\n",
       "      <th>_StoreAppData__id</th>\n",
       "      <th>_StoreAppData__languages</th>\n",
       "      <th>_StoreAppData__name</th>\n",
       "      <th>_StoreAppData__rating</th>\n",
       "      <th>_StoreAppData__ratings_count</th>\n",
       "      <th>_StoreAppData__ratings_count_curr</th>\n",
       "      <th>_StoreAppData__ratings_curr_ver</th>\n",
       "      <th>_StoreAppData__release_date</th>\n",
       "      <th>_StoreAppData__supported_devices</th>\n",
       "      <th>_StoreAppData__url</th>\n",
       "    </tr>\n",
       "  </thead>\n",
       "  <tbody>\n",
       "    <tr>\n",
       "      <th>60</th>\n",
       "      <td>889048062</td>\n",
       "      <td>[]</td>\n",
       "      <td>b'Alexia Educaci\\xc3\\xb3n'</td>\n",
       "      <td>NaN</td>\n",
       "      <td>NaN</td>\n",
       "      <td>NaN</td>\n",
       "      <td>NaN</td>\n",
       "      <td>2014-07-03</td>\n",
       "      <td>[iPhone3GS-iPhone-3GS, iPhone4-iPhone4, iPodTo...</td>\n",
       "      <td>https://itunes.apple.com/us/app/alexia-educaci...</td>\n",
       "    </tr>\n",
       "  </tbody>\n",
       "</table>\n",
       "</div>"
      ],
      "text/plain": [
       "    _StoreAppData__id _StoreAppData__languages         _StoreAppData__name  \\\n",
       "60          889048062                       []  b'Alexia Educaci\\xc3\\xb3n'   \n",
       "\n",
       "    _StoreAppData__rating  _StoreAppData__ratings_count  \\\n",
       "60                    NaN                           NaN   \n",
       "\n",
       "    _StoreAppData__ratings_count_curr  _StoreAppData__ratings_curr_ver  \\\n",
       "60                                NaN                              NaN   \n",
       "\n",
       "   _StoreAppData__release_date  \\\n",
       "60                  2014-07-03   \n",
       "\n",
       "                     _StoreAppData__supported_devices  \\\n",
       "60  [iPhone3GS-iPhone-3GS, iPhone4-iPhone4, iPodTo...   \n",
       "\n",
       "                                   _StoreAppData__url  \n",
       "60  https://itunes.apple.com/us/app/alexia-educaci...  "
      ]
     },
     "execution_count": 17,
     "metadata": {},
     "output_type": "execute_result"
    }
   ],
   "source": [
    "df_alexa.sample(1)"
   ]
  },
  {
   "cell_type": "code",
   "execution_count": 11,
   "metadata": {},
   "outputs": [
    {
     "data": {
      "text/html": [
       "<div>\n",
       "<style>\n",
       "    .dataframe thead tr:only-child th {\n",
       "        text-align: right;\n",
       "    }\n",
       "\n",
       "    .dataframe thead th {\n",
       "        text-align: left;\n",
       "    }\n",
       "\n",
       "    .dataframe tbody tr th {\n",
       "        vertical-align: top;\n",
       "    }\n",
       "</style>\n",
       "<table border=\"1\" class=\"dataframe\">\n",
       "  <thead>\n",
       "    <tr style=\"text-align: right;\">\n",
       "      <th></th>\n",
       "      <th>_StoreAppData__id</th>\n",
       "      <th>_StoreAppData__languages</th>\n",
       "      <th>_StoreAppData__name</th>\n",
       "      <th>_StoreAppData__rating</th>\n",
       "      <th>_StoreAppData__ratings_count</th>\n",
       "      <th>_StoreAppData__ratings_count_curr</th>\n",
       "      <th>_StoreAppData__ratings_curr_ver</th>\n",
       "      <th>_StoreAppData__release_date</th>\n",
       "      <th>_StoreAppData__supported_devices</th>\n",
       "      <th>_StoreAppData__url</th>\n",
       "    </tr>\n",
       "  </thead>\n",
       "  <tbody>\n",
       "    <tr>\n",
       "      <th>4</th>\n",
       "      <td>557745942</td>\n",
       "      <td>[AR, HY, CA, CS, DA, NL, EN, FI, FR, DE, EL, H...</td>\n",
       "      <td>b'24me Smart Personal Assistant'</td>\n",
       "      <td>4.5</td>\n",
       "      <td>3542.0</td>\n",
       "      <td>1.0</td>\n",
       "      <td>4.0</td>\n",
       "      <td>2012-10-23</td>\n",
       "      <td>[iPad2Wifi-iPad2Wifi, iPad23G-iPad23G, iPhone4...</td>\n",
       "      <td>https://itunes.apple.com/us/app/24me-smart-per...</td>\n",
       "    </tr>\n",
       "  </tbody>\n",
       "</table>\n",
       "</div>"
      ],
      "text/plain": [
       "   _StoreAppData__id                           _StoreAppData__languages  \\\n",
       "4          557745942  [AR, HY, CA, CS, DA, NL, EN, FI, FR, DE, EL, H...   \n",
       "\n",
       "                _StoreAppData__name  _StoreAppData__rating  \\\n",
       "4  b'24me Smart Personal Assistant'                    4.5   \n",
       "\n",
       "   _StoreAppData__ratings_count  _StoreAppData__ratings_count_curr  \\\n",
       "4                        3542.0                                1.0   \n",
       "\n",
       "   _StoreAppData__ratings_curr_ver _StoreAppData__release_date  \\\n",
       "4                              4.0                  2012-10-23   \n",
       "\n",
       "                    _StoreAppData__supported_devices  \\\n",
       "4  [iPad2Wifi-iPad2Wifi, iPad23G-iPad23G, iPhone4...   \n",
       "\n",
       "                                  _StoreAppData__url  \n",
       "4  https://itunes.apple.com/us/app/24me-smart-per...  "
      ]
     },
     "execution_count": 11,
     "metadata": {},
     "output_type": "execute_result"
    }
   ],
   "source": [
    "df_google_assistant.sample(1)"
   ]
  },
  {
   "cell_type": "code",
   "execution_count": null,
   "metadata": {
    "collapsed": true
   },
   "outputs": [],
   "source": []
  }
 ],
 "metadata": {
  "kernelspec": {
   "display_name": "Python 3",
   "language": "python",
   "name": "python3"
  },
  "language_info": {
   "codemirror_mode": {
    "name": "ipython",
    "version": 3
   },
   "file_extension": ".py",
   "mimetype": "text/x-python",
   "name": "python",
   "nbconvert_exporter": "python",
   "pygments_lexer": "ipython3",
   "version": "3.6.2"
  }
 },
 "nbformat": 4,
 "nbformat_minor": 1
}
