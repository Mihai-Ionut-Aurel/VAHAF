{
 "cells": [
  {
   "cell_type": "code",
   "execution_count": 1,
   "metadata": {
    "collapsed": true
   },
   "outputs": [],
   "source": [
    "from Utilities.ITunesAPI.ITunesSearchFunctions import *\n",
    "from Utilities.stackexchange.stack_helper_functions import *\n",
    "import numpy as np # linear algebra\n",
    "import pandas as pd # data processing, CSV file I/O (e.g. pd.read_csv)\n",
    "import matplotlib.pyplot as plt # for plots and visualizations\n",
    "import random\n",
    "import os\n",
    "%matplotlib inline\n",
    "root = 'Data'"
   ]
  },
  {
   "cell_type": "markdown",
   "metadata": {},
   "source": [
    "### First, import the data from Itunes store"
   ]
  },
  {
   "cell_type": "code",
   "execution_count": 2,
   "metadata": {},
   "outputs": [],
   "source": [
    "itunes_siri=siri_app_itunes('Siri',10)\n",
    "itunes_google_assistant=siri_app_itunes('Google Assistant',10)\n",
    "itunes_alexa=siri_app_itunes('Alexa',10)\n"
   ]
  },
  {
   "cell_type": "code",
   "execution_count": 3,
   "metadata": {},
   "outputs": [
    {
     "name": "stdout",
     "output_type": "stream",
     "text": [
      "559\n",
      "27\n",
      "265\n"
     ]
    }
   ],
   "source": [
    "print(len(itunes_siri))\n",
    "print(len(itunes_google_assistant))\n",
    "print(len(itunes_alexa))"
   ]
  },
  {
   "cell_type": "markdown",
   "metadata": {},
   "source": [
    "The function above searches on the Itunes store for apps that mention Siri or Google Assistant.\n",
    "\n",
    "After we got this data,lets import it into pandas"
   ]
  },
  {
   "cell_type": "code",
   "execution_count": 4,
   "metadata": {},
   "outputs": [
    {
     "data": {
      "text/html": [
       "<div>\n",
       "<style>\n",
       "    .dataframe thead tr:only-child th {\n",
       "        text-align: right;\n",
       "    }\n",
       "\n",
       "    .dataframe thead th {\n",
       "        text-align: left;\n",
       "    }\n",
       "\n",
       "    .dataframe tbody tr th {\n",
       "        vertical-align: top;\n",
       "    }\n",
       "</style>\n",
       "<table border=\"1\" class=\"dataframe\">\n",
       "  <thead>\n",
       "    <tr style=\"text-align: right;\">\n",
       "      <th></th>\n",
       "      <th>_StoreAppData__genre</th>\n",
       "      <th>_StoreAppData__id</th>\n",
       "      <th>_StoreAppData__languages</th>\n",
       "      <th>_StoreAppData__name</th>\n",
       "      <th>_StoreAppData__rating</th>\n",
       "      <th>_StoreAppData__ratings_count</th>\n",
       "      <th>_StoreAppData__ratings_count_curr</th>\n",
       "      <th>_StoreAppData__ratings_curr_ver</th>\n",
       "      <th>_StoreAppData__release_date</th>\n",
       "      <th>_StoreAppData__supported_devices</th>\n",
       "      <th>_StoreAppData__url</th>\n",
       "    </tr>\n",
       "  </thead>\n",
       "  <tbody>\n",
       "    <tr>\n",
       "      <th>549</th>\n",
       "      <td>[Utilities, Lifestyle]</td>\n",
       "      <td>1246271219</td>\n",
       "      <td>[EU, NL, EN, FR, DE, RU, ZH, VI]</td>\n",
       "      <td>b'IDC Riot'</td>\n",
       "      <td>NaN</td>\n",
       "      <td>NaN</td>\n",
       "      <td>NaN</td>\n",
       "      <td>NaN</td>\n",
       "      <td>2017-10-16</td>\n",
       "      <td>[iPad2Wifi-iPad2Wifi, iPad23G-iPad23G, iPhone4...</td>\n",
       "      <td>https://itunes.apple.com/us/app/idc-riot/id124...</td>\n",
       "    </tr>\n",
       "  </tbody>\n",
       "</table>\n",
       "</div>"
      ],
      "text/plain": [
       "       _StoreAppData__genre  _StoreAppData__id  \\\n",
       "549  [Utilities, Lifestyle]         1246271219   \n",
       "\n",
       "             _StoreAppData__languages _StoreAppData__name  \\\n",
       "549  [EU, NL, EN, FR, DE, RU, ZH, VI]         b'IDC Riot'   \n",
       "\n",
       "     _StoreAppData__rating  _StoreAppData__ratings_count  \\\n",
       "549                    NaN                           NaN   \n",
       "\n",
       "     _StoreAppData__ratings_count_curr  _StoreAppData__ratings_curr_ver  \\\n",
       "549                                NaN                              NaN   \n",
       "\n",
       "    _StoreAppData__release_date  \\\n",
       "549                  2017-10-16   \n",
       "\n",
       "                      _StoreAppData__supported_devices  \\\n",
       "549  [iPad2Wifi-iPad2Wifi, iPad23G-iPad23G, iPhone4...   \n",
       "\n",
       "                                    _StoreAppData__url  \n",
       "549  https://itunes.apple.com/us/app/idc-riot/id124...  "
      ]
     },
     "execution_count": 4,
     "metadata": {},
     "output_type": "execute_result"
    }
   ],
   "source": [
    "df_siri = pd.DataFrame([vars(f) for f in itunes_siri])\n",
    "df_siri.sample(1)"
   ]
  },
  {
   "cell_type": "code",
   "execution_count": 5,
   "metadata": {
    "scrolled": true
   },
   "outputs": [
    {
     "data": {
      "text/html": [
       "<div>\n",
       "<style>\n",
       "    .dataframe thead tr:only-child th {\n",
       "        text-align: right;\n",
       "    }\n",
       "\n",
       "    .dataframe thead th {\n",
       "        text-align: left;\n",
       "    }\n",
       "\n",
       "    .dataframe tbody tr th {\n",
       "        vertical-align: top;\n",
       "    }\n",
       "</style>\n",
       "<table border=\"1\" class=\"dataframe\">\n",
       "  <thead>\n",
       "    <tr style=\"text-align: right;\">\n",
       "      <th></th>\n",
       "      <th>_StoreAppData__genre</th>\n",
       "      <th>_StoreAppData__id</th>\n",
       "      <th>_StoreAppData__languages</th>\n",
       "      <th>_StoreAppData__name</th>\n",
       "      <th>_StoreAppData__rating</th>\n",
       "      <th>_StoreAppData__ratings_count</th>\n",
       "      <th>_StoreAppData__ratings_count_curr</th>\n",
       "      <th>_StoreAppData__ratings_curr_ver</th>\n",
       "      <th>_StoreAppData__release_date</th>\n",
       "      <th>_StoreAppData__supported_devices</th>\n",
       "      <th>_StoreAppData__url</th>\n",
       "    </tr>\n",
       "  </thead>\n",
       "  <tbody>\n",
       "    <tr>\n",
       "      <th>23</th>\n",
       "      <td>[Lifestyle, Productivity]</td>\n",
       "      <td>1313672452</td>\n",
       "      <td>[EN, FR, DE, IT, JA, KO, PT, RU, ZH, ES, ZH]</td>\n",
       "      <td>b'Family Chores'</td>\n",
       "      <td>NaN</td>\n",
       "      <td>NaN</td>\n",
       "      <td>1.0</td>\n",
       "      <td>1.0</td>\n",
       "      <td>2017-12-29</td>\n",
       "      <td>[iPad2Wifi-iPad2Wifi, iPad23G-iPad23G, iPhone4...</td>\n",
       "      <td>https://itunes.apple.com/us/app/family-chores/...</td>\n",
       "    </tr>\n",
       "  </tbody>\n",
       "</table>\n",
       "</div>"
      ],
      "text/plain": [
       "         _StoreAppData__genre  _StoreAppData__id  \\\n",
       "23  [Lifestyle, Productivity]         1313672452   \n",
       "\n",
       "                        _StoreAppData__languages _StoreAppData__name  \\\n",
       "23  [EN, FR, DE, IT, JA, KO, PT, RU, ZH, ES, ZH]    b'Family Chores'   \n",
       "\n",
       "    _StoreAppData__rating  _StoreAppData__ratings_count  \\\n",
       "23                    NaN                           NaN   \n",
       "\n",
       "    _StoreAppData__ratings_count_curr  _StoreAppData__ratings_curr_ver  \\\n",
       "23                                1.0                              1.0   \n",
       "\n",
       "   _StoreAppData__release_date  \\\n",
       "23                  2017-12-29   \n",
       "\n",
       "                     _StoreAppData__supported_devices  \\\n",
       "23  [iPad2Wifi-iPad2Wifi, iPad23G-iPad23G, iPhone4...   \n",
       "\n",
       "                                   _StoreAppData__url  \n",
       "23  https://itunes.apple.com/us/app/family-chores/...  "
      ]
     },
     "execution_count": 5,
     "metadata": {},
     "output_type": "execute_result"
    }
   ],
   "source": [
    "df_google_assistant = pd.DataFrame([vars(f) for f in itunes_google_assistant])\n",
    "df_google_assistant.sample(1)"
   ]
  },
  {
   "cell_type": "code",
   "execution_count": 6,
   "metadata": {},
   "outputs": [
    {
     "data": {
      "text/html": [
       "<div>\n",
       "<style>\n",
       "    .dataframe thead tr:only-child th {\n",
       "        text-align: right;\n",
       "    }\n",
       "\n",
       "    .dataframe thead th {\n",
       "        text-align: left;\n",
       "    }\n",
       "\n",
       "    .dataframe tbody tr th {\n",
       "        vertical-align: top;\n",
       "    }\n",
       "</style>\n",
       "<table border=\"1\" class=\"dataframe\">\n",
       "  <thead>\n",
       "    <tr style=\"text-align: right;\">\n",
       "      <th></th>\n",
       "      <th>_StoreAppData__genre</th>\n",
       "      <th>_StoreAppData__id</th>\n",
       "      <th>_StoreAppData__languages</th>\n",
       "      <th>_StoreAppData__name</th>\n",
       "      <th>_StoreAppData__rating</th>\n",
       "      <th>_StoreAppData__ratings_count</th>\n",
       "      <th>_StoreAppData__ratings_count_curr</th>\n",
       "      <th>_StoreAppData__ratings_curr_ver</th>\n",
       "      <th>_StoreAppData__release_date</th>\n",
       "      <th>_StoreAppData__supported_devices</th>\n",
       "      <th>_StoreAppData__url</th>\n",
       "    </tr>\n",
       "  </thead>\n",
       "  <tbody>\n",
       "    <tr>\n",
       "      <th>190</th>\n",
       "      <td>[Food &amp; Drink, Productivity]</td>\n",
       "      <td>1160062110</td>\n",
       "      <td>[EN, FR, DE, IT, JA, ZH, ES]</td>\n",
       "      <td>b'Appkettle'</td>\n",
       "      <td>NaN</td>\n",
       "      <td>NaN</td>\n",
       "      <td>NaN</td>\n",
       "      <td>NaN</td>\n",
       "      <td>2016-10-10</td>\n",
       "      <td>[iPad2Wifi-iPad2Wifi, iPad23G-iPad23G, iPhone4...</td>\n",
       "      <td>https://itunes.apple.com/us/app/appkettle/id11...</td>\n",
       "    </tr>\n",
       "  </tbody>\n",
       "</table>\n",
       "</div>"
      ],
      "text/plain": [
       "             _StoreAppData__genre  _StoreAppData__id  \\\n",
       "190  [Food & Drink, Productivity]         1160062110   \n",
       "\n",
       "         _StoreAppData__languages _StoreAppData__name  _StoreAppData__rating  \\\n",
       "190  [EN, FR, DE, IT, JA, ZH, ES]        b'Appkettle'                    NaN   \n",
       "\n",
       "     _StoreAppData__ratings_count  _StoreAppData__ratings_count_curr  \\\n",
       "190                           NaN                                NaN   \n",
       "\n",
       "     _StoreAppData__ratings_curr_ver _StoreAppData__release_date  \\\n",
       "190                              NaN                  2016-10-10   \n",
       "\n",
       "                      _StoreAppData__supported_devices  \\\n",
       "190  [iPad2Wifi-iPad2Wifi, iPad23G-iPad23G, iPhone4...   \n",
       "\n",
       "                                    _StoreAppData__url  \n",
       "190  https://itunes.apple.com/us/app/appkettle/id11...  "
      ]
     },
     "execution_count": 6,
     "metadata": {},
     "output_type": "execute_result"
    }
   ],
   "source": [
    "df_alexa = pd.DataFrame([vars(f) for f in itunes_alexa])\n",
    "df_alexa.sample(1)"
   ]
  },
  {
   "cell_type": "code",
   "execution_count": 7,
   "metadata": {
    "collapsed": true
   },
   "outputs": [],
   "source": [
    "df_siri.to_csv(os.path.join(root, 'siri_raw.csv'), encoding='utf-8', index=False)\n",
    "df_google_assistant.to_csv(os.path.join(root, 'google_assistant_itunes_raw.csv'), encoding='utf-8', index=False)\n",
    "df_alexa.to_csv(os.path.join(root, 'alexa_raw.csv'), encoding='utf-8', index=False)"
   ]
  },
  {
   "cell_type": "code",
   "execution_count": 8,
   "metadata": {
    "collapsed": true,
    "scrolled": true
   },
   "outputs": [],
   "source": [
    "df_google_assistant=df_google_assistant.assign(_StoreAppData__languages_count=([len(item) for item in df_google_assistant['_StoreAppData__languages']]))\n",
    "df_google_assistant=df_google_assistant.assign(_StoreAppData__supported_devices_count=([len(item) for item in df_google_assistant['_StoreAppData__supported_devices']]))"
   ]
  },
  {
   "cell_type": "code",
   "execution_count": 9,
   "metadata": {
    "collapsed": true
   },
   "outputs": [],
   "source": [
    "df_siri=df_siri.assign(_StoreAppData__languages_count=([len(item) for item in df_siri['_StoreAppData__languages']]))\n",
    "df_siri=df_siri.assign(_StoreAppData__genre_count=([len(item) for item in df_siri['_StoreAppData__genre']]))\n",
    "df_siri=df_siri.assign(_StoreAppData__supported_devices_count=([len(item) for item in df_siri['_StoreAppData__supported_devices']]))"
   ]
  },
  {
   "cell_type": "code",
   "execution_count": 10,
   "metadata": {
    "collapsed": true
   },
   "outputs": [],
   "source": [
    "df_alexa=df_alexa.assign(_StoreAppData__languages_count=([len(item) for item in df_alexa['_StoreAppData__languages']]))\n",
    "df_alexa=df_alexa.assign(_StoreAppData__supported_devices_count=([len(item) for item in df_alexa['_StoreAppData__supported_devices']]))"
   ]
  },
  {
   "cell_type": "code",
   "execution_count": 11,
   "metadata": {
    "collapsed": true
   },
   "outputs": [],
   "source": [
    "df_siri.to_csv(os.path.join(root, 'siri_processed.csv'), encoding='utf-8', index=False)\n",
    "df_google_assistant.to_csv(os.path.join(root, 'google_assistant_itunes_processed.csv'), encoding='utf-8', index=False)\n",
    "df_alexa.to_csv(os.path.join(root, 'alexa_processed.csv'), encoding='utf-8', index=False)"
   ]
  },
  {
   "cell_type": "code",
   "execution_count": 12,
   "metadata": {
    "collapsed": true
   },
   "outputs": [],
   "source": [
    "df_siri.nlargest(100,'_StoreAppData__genre_count').to_csv(os.path.join(root, 'siri_top_100_genre.csv'), encoding='utf-8', index=False)"
   ]
  },
  {
   "cell_type": "markdown",
   "metadata": {
    "collapsed": true
   },
   "source": [
    "Get the mean of the ratings for each of the Assistants"
   ]
  },
  {
   "cell_type": "code",
   "execution_count": 13,
   "metadata": {},
   "outputs": [
    {
     "name": "stdout",
     "output_type": "stream",
     "text": [
      "38881.3592233\n",
      "4352.2\n",
      "522.915662651\n"
     ]
    }
   ],
   "source": [
    "print(df_siri['_StoreAppData__ratings_count'].mean())\n",
    "print(df_google_assistant['_StoreAppData__ratings_count'].mean())\n",
    "print(df_alexa['_StoreAppData__ratings_count'].mean())"
   ]
  },
  {
   "cell_type": "code",
   "execution_count": 14,
   "metadata": {},
   "outputs": [
    {
     "name": "stdout",
     "output_type": "stream",
     "text": [
      "4.06472491909\n",
      "4.26666666667\n",
      "3.55421686747\n"
     ]
    }
   ],
   "source": [
    "print(df_siri['_StoreAppData__rating'].mean())\n",
    "print(df_google_assistant['_StoreAppData__rating'].mean())\n",
    "print(df_alexa['_StoreAppData__rating'].mean())"
   ]
  },
  {
   "cell_type": "code",
   "execution_count": 16,
   "metadata": {
    "collapsed": true
   },
   "outputs": [],
   "source": [
    "android_stack=search_questions('android',100)\n",
    "ios_stack=search_questions('ios',100)\n",
    "aws_stack=search_questions('amazon-web-services',100)"
   ]
  },
  {
   "cell_type": "code",
   "execution_count": 18,
   "metadata": {},
   "outputs": [],
   "source": [
    "android_stack_json=questions_to_json(android_stack)\n",
    "ios_stack_json=questions_to_json(ios_stack)\n",
    "aws_stack_json=questions_to_json(aws_stack)"
   ]
  },
  {
   "cell_type": "code",
   "execution_count": 17,
   "metadata": {
    "collapsed": true
   },
   "outputs": [],
   "source": [
    "from pandas.io.json import json_normalize"
   ]
  },
  {
   "cell_type": "code",
   "execution_count": 19,
   "metadata": {
    "collapsed": true
   },
   "outputs": [],
   "source": [
    "df_android = json_normalize(android_stack_json)"
   ]
  },
  {
   "cell_type": "code",
   "execution_count": 20,
   "metadata": {},
   "outputs": [
    {
     "name": "stdout",
     "output_type": "stream",
     "text": [
      "3000\n",
      "3000\n",
      "1969\n"
     ]
    }
   ],
   "source": [
    "print(len(android_stack))\n",
    "print(len(ios_stack))\n",
    "print(len(aws_stack))"
   ]
  },
  {
   "cell_type": "code",
   "execution_count": 21,
   "metadata": {
    "collapsed": true
   },
   "outputs": [],
   "source": [
    "google_assistant_stack=search_questions('google-assistant-sdk',100)\n",
    "siri_stack=search_questions('siri',100)\n",
    "alexa_stack=search_questions('alexa',100)"
   ]
  },
  {
   "cell_type": "code",
   "execution_count": 22,
   "metadata": {},
   "outputs": [
    {
     "name": "stdout",
     "output_type": "stream",
     "text": [
      "49\n",
      "5\n",
      "80\n"
     ]
    }
   ],
   "source": [
    "print(len(google_assistant_stack))\n",
    "print(len(siri_stack))\n",
    "print(len(alexa_stack))"
   ]
  },
  {
   "cell_type": "code",
   "execution_count": 23,
   "metadata": {},
   "outputs": [
    {
     "data": {
      "text/html": [
       "<div>\n",
       "<style>\n",
       "    .dataframe thead tr:only-child th {\n",
       "        text-align: right;\n",
       "    }\n",
       "\n",
       "    .dataframe thead th {\n",
       "        text-align: left;\n",
       "    }\n",
       "\n",
       "    .dataframe tbody tr th {\n",
       "        vertical-align: top;\n",
       "    }\n",
       "</style>\n",
       "<table border=\"1\" class=\"dataframe\">\n",
       "  <thead>\n",
       "    <tr style=\"text-align: right;\">\n",
       "      <th></th>\n",
       "      <th>_StoreAppData__genre</th>\n",
       "      <th>_StoreAppData__id</th>\n",
       "      <th>_StoreAppData__languages</th>\n",
       "      <th>_StoreAppData__name</th>\n",
       "      <th>_StoreAppData__rating</th>\n",
       "      <th>_StoreAppData__ratings_count</th>\n",
       "      <th>_StoreAppData__ratings_count_curr</th>\n",
       "      <th>_StoreAppData__ratings_curr_ver</th>\n",
       "      <th>_StoreAppData__release_date</th>\n",
       "      <th>_StoreAppData__supported_devices</th>\n",
       "      <th>_StoreAppData__url</th>\n",
       "      <th>_StoreAppData__languages_count</th>\n",
       "      <th>_StoreAppData__genre_count</th>\n",
       "      <th>_StoreAppData__supported_devices_count</th>\n",
       "    </tr>\n",
       "  </thead>\n",
       "  <tbody>\n",
       "    <tr>\n",
       "      <th>400</th>\n",
       "      <td>[Health &amp; Fitness, Sports]</td>\n",
       "      <td>981070960</td>\n",
       "      <td>[ZH]</td>\n",
       "      <td>b'\\xe7\\xb0\\x87\\xe6\\xa0\\xbc\\xe8\\xbf\\x90\\xe5\\x8a...</td>\n",
       "      <td>NaN</td>\n",
       "      <td>NaN</td>\n",
       "      <td>NaN</td>\n",
       "      <td>NaN</td>\n",
       "      <td>2015-10-17</td>\n",
       "      <td>[iPhone4S-iPhone4S, iPhone5-iPhone5, iPodTouch...</td>\n",
       "      <td>https://itunes.apple.com/us/app/%E7%B0%87%E6%A...</td>\n",
       "      <td>1</td>\n",
       "      <td>2</td>\n",
       "      <td>16</td>\n",
       "    </tr>\n",
       "  </tbody>\n",
       "</table>\n",
       "</div>"
      ],
      "text/plain": [
       "           _StoreAppData__genre  _StoreAppData__id _StoreAppData__languages  \\\n",
       "400  [Health & Fitness, Sports]          981070960                     [ZH]   \n",
       "\n",
       "                                   _StoreAppData__name  _StoreAppData__rating  \\\n",
       "400  b'\\xe7\\xb0\\x87\\xe6\\xa0\\xbc\\xe8\\xbf\\x90\\xe5\\x8a...                    NaN   \n",
       "\n",
       "     _StoreAppData__ratings_count  _StoreAppData__ratings_count_curr  \\\n",
       "400                           NaN                                NaN   \n",
       "\n",
       "     _StoreAppData__ratings_curr_ver _StoreAppData__release_date  \\\n",
       "400                              NaN                  2015-10-17   \n",
       "\n",
       "                      _StoreAppData__supported_devices  \\\n",
       "400  [iPhone4S-iPhone4S, iPhone5-iPhone5, iPodTouch...   \n",
       "\n",
       "                                    _StoreAppData__url  \\\n",
       "400  https://itunes.apple.com/us/app/%E7%B0%87%E6%A...   \n",
       "\n",
       "     _StoreAppData__languages_count  _StoreAppData__genre_count  \\\n",
       "400                               1                           2   \n",
       "\n",
       "     _StoreAppData__supported_devices_count  \n",
       "400                                      16  "
      ]
     },
     "execution_count": 23,
     "metadata": {},
     "output_type": "execute_result"
    }
   ],
   "source": [
    "df_siri.sample(1)"
   ]
  },
  {
   "cell_type": "code",
   "execution_count": 24,
   "metadata": {
    "scrolled": true
   },
   "outputs": [
    {
     "data": {
      "text/html": [
       "<div>\n",
       "<style>\n",
       "    .dataframe thead tr:only-child th {\n",
       "        text-align: right;\n",
       "    }\n",
       "\n",
       "    .dataframe thead th {\n",
       "        text-align: left;\n",
       "    }\n",
       "\n",
       "    .dataframe tbody tr th {\n",
       "        vertical-align: top;\n",
       "    }\n",
       "</style>\n",
       "<table border=\"1\" class=\"dataframe\">\n",
       "  <thead>\n",
       "    <tr style=\"text-align: right;\">\n",
       "      <th></th>\n",
       "      <th>_StoreAppData__genre</th>\n",
       "      <th>_StoreAppData__id</th>\n",
       "      <th>_StoreAppData__languages</th>\n",
       "      <th>_StoreAppData__name</th>\n",
       "      <th>_StoreAppData__rating</th>\n",
       "      <th>_StoreAppData__ratings_count</th>\n",
       "      <th>_StoreAppData__ratings_count_curr</th>\n",
       "      <th>_StoreAppData__ratings_curr_ver</th>\n",
       "      <th>_StoreAppData__release_date</th>\n",
       "      <th>_StoreAppData__supported_devices</th>\n",
       "      <th>_StoreAppData__url</th>\n",
       "      <th>_StoreAppData__languages_count</th>\n",
       "      <th>_StoreAppData__supported_devices_count</th>\n",
       "    </tr>\n",
       "  </thead>\n",
       "  <tbody>\n",
       "    <tr>\n",
       "      <th>131</th>\n",
       "      <td>[Music, Entertainment]</td>\n",
       "      <td>1258416073</td>\n",
       "      <td>[EN, FR, DE, IT, JA, KO, RU, ZH, ES, ZH]</td>\n",
       "      <td>b'Merlin Muze'</td>\n",
       "      <td>NaN</td>\n",
       "      <td>NaN</td>\n",
       "      <td>NaN</td>\n",
       "      <td>NaN</td>\n",
       "      <td>2017-07-12</td>\n",
       "      <td>[iPhone4-iPhone4, iPad2Wifi-iPad2Wifi, iPad23G...</td>\n",
       "      <td>https://itunes.apple.com/us/app/merlin-muze/id...</td>\n",
       "      <td>10</td>\n",
       "      <td>45</td>\n",
       "    </tr>\n",
       "  </tbody>\n",
       "</table>\n",
       "</div>"
      ],
      "text/plain": [
       "       _StoreAppData__genre  _StoreAppData__id  \\\n",
       "131  [Music, Entertainment]         1258416073   \n",
       "\n",
       "                     _StoreAppData__languages _StoreAppData__name  \\\n",
       "131  [EN, FR, DE, IT, JA, KO, RU, ZH, ES, ZH]      b'Merlin Muze'   \n",
       "\n",
       "     _StoreAppData__rating  _StoreAppData__ratings_count  \\\n",
       "131                    NaN                           NaN   \n",
       "\n",
       "     _StoreAppData__ratings_count_curr  _StoreAppData__ratings_curr_ver  \\\n",
       "131                                NaN                              NaN   \n",
       "\n",
       "    _StoreAppData__release_date  \\\n",
       "131                  2017-07-12   \n",
       "\n",
       "                      _StoreAppData__supported_devices  \\\n",
       "131  [iPhone4-iPhone4, iPad2Wifi-iPad2Wifi, iPad23G...   \n",
       "\n",
       "                                    _StoreAppData__url  \\\n",
       "131  https://itunes.apple.com/us/app/merlin-muze/id...   \n",
       "\n",
       "     _StoreAppData__languages_count  _StoreAppData__supported_devices_count  \n",
       "131                              10                                      45  "
      ]
     },
     "execution_count": 24,
     "metadata": {},
     "output_type": "execute_result"
    }
   ],
   "source": [
    "df_alexa.sample(1)"
   ]
  },
  {
   "cell_type": "code",
   "execution_count": 25,
   "metadata": {},
   "outputs": [
    {
     "data": {
      "text/html": [
       "<div>\n",
       "<style>\n",
       "    .dataframe thead tr:only-child th {\n",
       "        text-align: right;\n",
       "    }\n",
       "\n",
       "    .dataframe thead th {\n",
       "        text-align: left;\n",
       "    }\n",
       "\n",
       "    .dataframe tbody tr th {\n",
       "        vertical-align: top;\n",
       "    }\n",
       "</style>\n",
       "<table border=\"1\" class=\"dataframe\">\n",
       "  <thead>\n",
       "    <tr style=\"text-align: right;\">\n",
       "      <th></th>\n",
       "      <th>_StoreAppData__genre</th>\n",
       "      <th>_StoreAppData__id</th>\n",
       "      <th>_StoreAppData__languages</th>\n",
       "      <th>_StoreAppData__name</th>\n",
       "      <th>_StoreAppData__rating</th>\n",
       "      <th>_StoreAppData__ratings_count</th>\n",
       "      <th>_StoreAppData__ratings_count_curr</th>\n",
       "      <th>_StoreAppData__ratings_curr_ver</th>\n",
       "      <th>_StoreAppData__release_date</th>\n",
       "      <th>_StoreAppData__supported_devices</th>\n",
       "      <th>_StoreAppData__url</th>\n",
       "      <th>_StoreAppData__languages_count</th>\n",
       "      <th>_StoreAppData__supported_devices_count</th>\n",
       "    </tr>\n",
       "  </thead>\n",
       "  <tbody>\n",
       "    <tr>\n",
       "      <th>14</th>\n",
       "      <td>[Productivity, Business]</td>\n",
       "      <td>1125808771</td>\n",
       "      <td>[EN, JA, RU, ZH, ES, ZH]</td>\n",
       "      <td>b'Simplanum - Plan It Simple!'</td>\n",
       "      <td>4.5</td>\n",
       "      <td>45.0</td>\n",
       "      <td>2.0</td>\n",
       "      <td>3.0</td>\n",
       "      <td>2016-12-25</td>\n",
       "      <td>[iPad2Wifi-iPad2Wifi, iPad23G-iPad23G, iPhone4...</td>\n",
       "      <td>https://itunes.apple.com/us/app/simplanum-plan...</td>\n",
       "      <td>6</td>\n",
       "      <td>44</td>\n",
       "    </tr>\n",
       "  </tbody>\n",
       "</table>\n",
       "</div>"
      ],
      "text/plain": [
       "        _StoreAppData__genre  _StoreAppData__id  _StoreAppData__languages  \\\n",
       "14  [Productivity, Business]         1125808771  [EN, JA, RU, ZH, ES, ZH]   \n",
       "\n",
       "               _StoreAppData__name  _StoreAppData__rating  \\\n",
       "14  b'Simplanum - Plan It Simple!'                    4.5   \n",
       "\n",
       "    _StoreAppData__ratings_count  _StoreAppData__ratings_count_curr  \\\n",
       "14                          45.0                                2.0   \n",
       "\n",
       "    _StoreAppData__ratings_curr_ver _StoreAppData__release_date  \\\n",
       "14                              3.0                  2016-12-25   \n",
       "\n",
       "                     _StoreAppData__supported_devices  \\\n",
       "14  [iPad2Wifi-iPad2Wifi, iPad23G-iPad23G, iPhone4...   \n",
       "\n",
       "                                   _StoreAppData__url  \\\n",
       "14  https://itunes.apple.com/us/app/simplanum-plan...   \n",
       "\n",
       "    _StoreAppData__languages_count  _StoreAppData__supported_devices_count  \n",
       "14                               6                                      44  "
      ]
     },
     "execution_count": 25,
     "metadata": {},
     "output_type": "execute_result"
    }
   ],
   "source": [
    "df_google_assistant.sample(1)"
   ]
  },
  {
   "cell_type": "code",
   "execution_count": 26,
   "metadata": {
    "collapsed": true
   },
   "outputs": [],
   "source": [
    "categories=df_siri._StoreAppData__genre.tolist()"
   ]
  },
  {
   "cell_type": "code",
   "execution_count": 27,
   "metadata": {
    "collapsed": true
   },
   "outputs": [],
   "source": [
    "categories_flat_list = [item for sublist in categories for item in sublist]"
   ]
  },
  {
   "cell_type": "code",
   "execution_count": 28,
   "metadata": {},
   "outputs": [
    {
     "name": "stdout",
     "output_type": "stream",
     "text": [
      "Unique categories siri: 22\n"
     ]
    }
   ],
   "source": [
    "categories_set=set(categories_flat_list)\n",
    "print(\"Unique categories siri: \"+str(len(categories_set)))"
   ]
  },
  {
   "cell_type": "code",
   "execution_count": 30,
   "metadata": {},
   "outputs": [],
   "source": [
    "apps_december_january=df_siri[(df_siri['_StoreAppData__release_date'] > '2017-12-01') & (df_siri['_StoreAppData__release_date'] < '2018-01-06')]"
   ]
  },
  {
   "cell_type": "code",
   "execution_count": 31,
   "metadata": {},
   "outputs": [
    {
     "name": "stdout",
     "output_type": "stream",
     "text": [
      "12\n"
     ]
    }
   ],
   "source": [
    "print(len(apps_december_january))"
   ]
  },
  {
   "cell_type": "code",
   "execution_count": null,
   "metadata": {
    "collapsed": true
   },
   "outputs": [],
   "source": []
  }
 ],
 "metadata": {
  "kernelspec": {
   "display_name": "Python 3",
   "language": "python",
   "name": "python3"
  },
  "language_info": {
   "codemirror_mode": {
    "name": "ipython",
    "version": 3
   },
   "file_extension": ".py",
   "mimetype": "text/x-python",
   "name": "python",
   "nbconvert_exporter": "python",
   "pygments_lexer": "ipython3",
   "version": "3.6.2"
  }
 },
 "nbformat": 4,
 "nbformat_minor": 1
}
