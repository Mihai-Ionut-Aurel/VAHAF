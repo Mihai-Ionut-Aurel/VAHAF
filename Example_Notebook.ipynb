{
 "cells": [
  {
   "cell_type": "code",
   "execution_count": 1,
   "metadata": {
    "collapsed": true
   },
   "outputs": [],
   "source": [
    "from Utilities.ITunesAPI.ITunesSearchFunctions import *\n",
    "from Utilities.stackexchange.stack_helper_functions import *\n",
    "import numpy as np # linear algebra\n",
    "import pandas as pd # data processing, CSV file I/O (e.g. pd.read_csv)\n",
    "import matplotlib.pyplot as plt # for plots and visualizations\n",
    "import random\n",
    "import os\n",
    "%matplotlib inline\n",
    "root = 'Data'"
   ]
  },
  {
   "cell_type": "markdown",
   "metadata": {},
   "source": [
    "### First, import the data from Itunes store"
   ]
  },
  {
   "cell_type": "code",
   "execution_count": 6,
   "metadata": {
    "collapsed": true
   },
   "outputs": [],
   "source": [
    "itunes_siri=siri_app_itunes('Siri',10)\n",
    "itunes_google_assistant=siri_app_itunes('Google Assistant',10)\n",
    "itunes_alexa=siri_app_itunes('Alexa',10)\n"
   ]
  },
  {
   "cell_type": "code",
   "execution_count": 7,
   "metadata": {},
   "outputs": [
    {
     "name": "stdout",
     "output_type": "stream",
     "text": [
      "557\n",
      "26\n",
      "268\n"
     ]
    }
   ],
   "source": [
    "print(len(itunes_siri))\n",
    "print(len(itunes_google_assistant))\n",
    "print(len(itunes_alexa))"
   ]
  },
  {
   "cell_type": "markdown",
   "metadata": {},
   "source": [
    "The function above searches on the Itunes store for apps that mention Siri or Google Assistant.\n",
    "\n",
    "After we got this data,lets import it into pandas"
   ]
  },
  {
   "cell_type": "code",
   "execution_count": 8,
   "metadata": {},
   "outputs": [
    {
     "data": {
      "text/html": [
       "<div>\n",
       "<style>\n",
       "    .dataframe thead tr:only-child th {\n",
       "        text-align: right;\n",
       "    }\n",
       "\n",
       "    .dataframe thead th {\n",
       "        text-align: left;\n",
       "    }\n",
       "\n",
       "    .dataframe tbody tr th {\n",
       "        vertical-align: top;\n",
       "    }\n",
       "</style>\n",
       "<table border=\"1\" class=\"dataframe\">\n",
       "  <thead>\n",
       "    <tr style=\"text-align: right;\">\n",
       "      <th></th>\n",
       "      <th>_StoreAppData__genre</th>\n",
       "      <th>_StoreAppData__id</th>\n",
       "      <th>_StoreAppData__languages</th>\n",
       "      <th>_StoreAppData__name</th>\n",
       "      <th>_StoreAppData__rating</th>\n",
       "      <th>_StoreAppData__ratings_count</th>\n",
       "      <th>_StoreAppData__ratings_count_curr</th>\n",
       "      <th>_StoreAppData__ratings_curr_ver</th>\n",
       "      <th>_StoreAppData__release_date</th>\n",
       "      <th>_StoreAppData__supported_devices</th>\n",
       "      <th>_StoreAppData__url</th>\n",
       "    </tr>\n",
       "  </thead>\n",
       "  <tbody>\n",
       "    <tr>\n",
       "      <th>515</th>\n",
       "      <td>[Productivity, Utilities]</td>\n",
       "      <td>1153560235</td>\n",
       "      <td>[NL, EN]</td>\n",
       "      <td>b'ClearVox Nexxt'</td>\n",
       "      <td>NaN</td>\n",
       "      <td>NaN</td>\n",
       "      <td>NaN</td>\n",
       "      <td>NaN</td>\n",
       "      <td>2016-11-03</td>\n",
       "      <td>[iPhone5-iPhone5, iPadFourthGen-iPadFourthGen,...</td>\n",
       "      <td>https://itunes.apple.com/us/app/clearvox-nexxt...</td>\n",
       "    </tr>\n",
       "  </tbody>\n",
       "</table>\n",
       "</div>"
      ],
      "text/plain": [
       "          _StoreAppData__genre  _StoreAppData__id _StoreAppData__languages  \\\n",
       "515  [Productivity, Utilities]         1153560235                 [NL, EN]   \n",
       "\n",
       "    _StoreAppData__name  _StoreAppData__rating  _StoreAppData__ratings_count  \\\n",
       "515   b'ClearVox Nexxt'                    NaN                           NaN   \n",
       "\n",
       "     _StoreAppData__ratings_count_curr  _StoreAppData__ratings_curr_ver  \\\n",
       "515                                NaN                              NaN   \n",
       "\n",
       "    _StoreAppData__release_date  \\\n",
       "515                  2016-11-03   \n",
       "\n",
       "                      _StoreAppData__supported_devices  \\\n",
       "515  [iPhone5-iPhone5, iPadFourthGen-iPadFourthGen,...   \n",
       "\n",
       "                                    _StoreAppData__url  \n",
       "515  https://itunes.apple.com/us/app/clearvox-nexxt...  "
      ]
     },
     "execution_count": 8,
     "metadata": {},
     "output_type": "execute_result"
    }
   ],
   "source": [
    "df_siri = pd.DataFrame([vars(f) for f in itunes_siri])\n",
    "df_siri.sample(1)"
   ]
  },
  {
   "cell_type": "code",
   "execution_count": 9,
   "metadata": {
    "scrolled": true
   },
   "outputs": [
    {
     "data": {
      "text/html": [
       "<div>\n",
       "<style>\n",
       "    .dataframe thead tr:only-child th {\n",
       "        text-align: right;\n",
       "    }\n",
       "\n",
       "    .dataframe thead th {\n",
       "        text-align: left;\n",
       "    }\n",
       "\n",
       "    .dataframe tbody tr th {\n",
       "        vertical-align: top;\n",
       "    }\n",
       "</style>\n",
       "<table border=\"1\" class=\"dataframe\">\n",
       "  <thead>\n",
       "    <tr style=\"text-align: right;\">\n",
       "      <th></th>\n",
       "      <th>_StoreAppData__genre</th>\n",
       "      <th>_StoreAppData__id</th>\n",
       "      <th>_StoreAppData__languages</th>\n",
       "      <th>_StoreAppData__name</th>\n",
       "      <th>_StoreAppData__rating</th>\n",
       "      <th>_StoreAppData__ratings_count</th>\n",
       "      <th>_StoreAppData__ratings_count_curr</th>\n",
       "      <th>_StoreAppData__ratings_curr_ver</th>\n",
       "      <th>_StoreAppData__release_date</th>\n",
       "      <th>_StoreAppData__supported_devices</th>\n",
       "      <th>_StoreAppData__url</th>\n",
       "    </tr>\n",
       "  </thead>\n",
       "  <tbody>\n",
       "    <tr>\n",
       "      <th>14</th>\n",
       "      <td>[Navigation]</td>\n",
       "      <td>493906578</td>\n",
       "      <td>[ZH]</td>\n",
       "      <td>b'\\xe8\\xa1\\x8c\\xe8\\xbb\\x8a\\xe5\\x8a\\xa9\\xe7\\x90...</td>\n",
       "      <td>3.5</td>\n",
       "      <td>6.0</td>\n",
       "      <td>NaN</td>\n",
       "      <td>NaN</td>\n",
       "      <td>2012-01-19</td>\n",
       "      <td>[iPhone4-iPhone4, iPad2Wifi-iPad2Wifi, iPad23G...</td>\n",
       "      <td>https://itunes.apple.com/us/app/%E8%A1%8C%E8%B...</td>\n",
       "    </tr>\n",
       "  </tbody>\n",
       "</table>\n",
       "</div>"
      ],
      "text/plain": [
       "   _StoreAppData__genre  _StoreAppData__id _StoreAppData__languages  \\\n",
       "14         [Navigation]          493906578                     [ZH]   \n",
       "\n",
       "                                  _StoreAppData__name  _StoreAppData__rating  \\\n",
       "14  b'\\xe8\\xa1\\x8c\\xe8\\xbb\\x8a\\xe5\\x8a\\xa9\\xe7\\x90...                    3.5   \n",
       "\n",
       "    _StoreAppData__ratings_count  _StoreAppData__ratings_count_curr  \\\n",
       "14                           6.0                                NaN   \n",
       "\n",
       "    _StoreAppData__ratings_curr_ver _StoreAppData__release_date  \\\n",
       "14                              NaN                  2012-01-19   \n",
       "\n",
       "                     _StoreAppData__supported_devices  \\\n",
       "14  [iPhone4-iPhone4, iPad2Wifi-iPad2Wifi, iPad23G...   \n",
       "\n",
       "                                   _StoreAppData__url  \n",
       "14  https://itunes.apple.com/us/app/%E8%A1%8C%E8%B...  "
      ]
     },
     "execution_count": 9,
     "metadata": {},
     "output_type": "execute_result"
    }
   ],
   "source": [
    "df_google_assistant = pd.DataFrame([vars(f) for f in itunes_google_assistant])\n",
    "df_google_assistant.sample(1)"
   ]
  },
  {
   "cell_type": "code",
   "execution_count": 10,
   "metadata": {},
   "outputs": [
    {
     "data": {
      "text/html": [
       "<div>\n",
       "<style>\n",
       "    .dataframe thead tr:only-child th {\n",
       "        text-align: right;\n",
       "    }\n",
       "\n",
       "    .dataframe thead th {\n",
       "        text-align: left;\n",
       "    }\n",
       "\n",
       "    .dataframe tbody tr th {\n",
       "        vertical-align: top;\n",
       "    }\n",
       "</style>\n",
       "<table border=\"1\" class=\"dataframe\">\n",
       "  <thead>\n",
       "    <tr style=\"text-align: right;\">\n",
       "      <th></th>\n",
       "      <th>_StoreAppData__genre</th>\n",
       "      <th>_StoreAppData__id</th>\n",
       "      <th>_StoreAppData__languages</th>\n",
       "      <th>_StoreAppData__name</th>\n",
       "      <th>_StoreAppData__rating</th>\n",
       "      <th>_StoreAppData__ratings_count</th>\n",
       "      <th>_StoreAppData__ratings_count_curr</th>\n",
       "      <th>_StoreAppData__ratings_curr_ver</th>\n",
       "      <th>_StoreAppData__release_date</th>\n",
       "      <th>_StoreAppData__supported_devices</th>\n",
       "      <th>_StoreAppData__url</th>\n",
       "    </tr>\n",
       "  </thead>\n",
       "  <tbody>\n",
       "    <tr>\n",
       "      <th>228</th>\n",
       "      <td>[Utilities, Productivity]</td>\n",
       "      <td>1321810772</td>\n",
       "      <td>[EN]</td>\n",
       "      <td>b'Is My Internet Out?'</td>\n",
       "      <td>NaN</td>\n",
       "      <td>NaN</td>\n",
       "      <td>NaN</td>\n",
       "      <td>NaN</td>\n",
       "      <td>2017-12-18</td>\n",
       "      <td>[iPhone5s-iPhone5s, iPadAir-iPadAir, iPadAirCe...</td>\n",
       "      <td>https://itunes.apple.com/us/app/is-my-internet...</td>\n",
       "    </tr>\n",
       "  </tbody>\n",
       "</table>\n",
       "</div>"
      ],
      "text/plain": [
       "          _StoreAppData__genre  _StoreAppData__id _StoreAppData__languages  \\\n",
       "228  [Utilities, Productivity]         1321810772                     [EN]   \n",
       "\n",
       "        _StoreAppData__name  _StoreAppData__rating  \\\n",
       "228  b'Is My Internet Out?'                    NaN   \n",
       "\n",
       "     _StoreAppData__ratings_count  _StoreAppData__ratings_count_curr  \\\n",
       "228                           NaN                                NaN   \n",
       "\n",
       "     _StoreAppData__ratings_curr_ver _StoreAppData__release_date  \\\n",
       "228                              NaN                  2017-12-18   \n",
       "\n",
       "                      _StoreAppData__supported_devices  \\\n",
       "228  [iPhone5s-iPhone5s, iPadAir-iPadAir, iPadAirCe...   \n",
       "\n",
       "                                    _StoreAppData__url  \n",
       "228  https://itunes.apple.com/us/app/is-my-internet...  "
      ]
     },
     "execution_count": 10,
     "metadata": {},
     "output_type": "execute_result"
    }
   ],
   "source": [
    "df_alexa = pd.DataFrame([vars(f) for f in itunes_alexa])\n",
    "df_alexa.sample(1)"
   ]
  },
  {
   "cell_type": "code",
   "execution_count": 11,
   "metadata": {
    "collapsed": true
   },
   "outputs": [],
   "source": [
    "df_siri.to_csv(os.path.join(root, 'siri_raw.csv'), encoding='utf-8', index=False)\n",
    "df_google_assistant.to_csv(os.path.join(root, 'google_assistant_itunes_raw.csv'), encoding='utf-8', index=False)\n",
    "df_alexa.to_csv(os.path.join(root, 'alexa_raw.csv'), encoding='utf-8', index=False)"
   ]
  },
  {
   "cell_type": "code",
   "execution_count": 12,
   "metadata": {
    "collapsed": true,
    "scrolled": true
   },
   "outputs": [],
   "source": [
    "df_google_assistant=df_google_assistant.assign(_StoreAppData__languages_count=([len(item) for item in df_google_assistant['_StoreAppData__languages']]))\n",
    "df_google_assistant=df_google_assistant.assign(_StoreAppData__supported_devices_count=([len(item) for item in df_google_assistant['_StoreAppData__supported_devices']]))"
   ]
  },
  {
   "cell_type": "code",
   "execution_count": 13,
   "metadata": {
    "collapsed": true
   },
   "outputs": [],
   "source": [
    "df_siri=df_siri.assign(_StoreAppData__languages_count=([len(item) for item in df_siri['_StoreAppData__languages']]))\n",
    "df_siri=df_siri.assign(_StoreAppData__genre_count=([len(item) for item in df_siri['_StoreAppData__genre']]))\n",
    "df_siri=df_siri.assign(_StoreAppData__supported_devices_count=([len(item) for item in df_siri['_StoreAppData__supported_devices']]))"
   ]
  },
  {
   "cell_type": "code",
   "execution_count": 14,
   "metadata": {
    "collapsed": true
   },
   "outputs": [],
   "source": [
    "df_alexa=df_alexa.assign(_StoreAppData__languages_count=([len(item) for item in df_alexa['_StoreAppData__languages']]))\n",
    "df_alexa=df_alexa.assign(_StoreAppData__supported_devices_count=([len(item) for item in df_alexa['_StoreAppData__supported_devices']]))"
   ]
  },
  {
   "cell_type": "code",
   "execution_count": 16,
   "metadata": {},
   "outputs": [],
   "source": [
    "df_siri.to_csv(os.path.join(root, 'siri_processed.csv'), encoding='utf-8', index=False)\n",
    "df_google_assistant.to_csv(os.path.join(root, 'google_assistant_itunes_processed.csv'), encoding='utf-8', index=False)\n",
    "df_alexa.to_csv(os.path.join(root, 'alexa_processed.csv'), encoding='utf-8', index=False)"
   ]
  },
  {
   "cell_type": "code",
   "execution_count": 17,
   "metadata": {
    "collapsed": true
   },
   "outputs": [],
   "source": [
    "df_siri.nlargest(100,'_StoreAppData__genre_count').to_csv(os.path.join(root, 'siri_top_100_genre.csv'), encoding='utf-8', index=False)"
   ]
  },
  {
   "cell_type": "markdown",
   "metadata": {
    "collapsed": true
   },
   "source": [
    "Get the mean of the ratings for each of the Assistants"
   ]
  },
  {
   "cell_type": "code",
   "execution_count": null,
   "metadata": {},
   "outputs": [],
   "source": [
    "print(df_siri['_StoreAppData__ratings_count'].mean())\n",
    "print(df_google_assistant['_StoreAppData__ratings_count'].mean())\n",
    "print(df_alexa['_StoreAppData__ratings_count'].mean())"
   ]
  },
  {
   "cell_type": "code",
   "execution_count": null,
   "metadata": {},
   "outputs": [],
   "source": [
    "print(df_siri['_StoreAppData__rating'].mean())\n",
    "print(df_google_assistant['_StoreAppData__rating'].mean())\n",
    "print(df_alexa['_StoreAppData__rating'].mean())"
   ]
  },
  {
   "cell_type": "code",
   "execution_count": null,
   "metadata": {
    "collapsed": true
   },
   "outputs": [],
   "source": [
    "android_stack=search_questions('android',100)\n",
    "ios_stack=search_questions('ios',100)\n",
    "aws_stack=search_questions('amazon-web-services',100)"
   ]
  },
  {
   "cell_type": "code",
   "execution_count": null,
   "metadata": {
    "collapsed": true
   },
   "outputs": [],
   "source": [
    "android_stack_json=questions_to_json(android_stack)\n",
    "ios_stack_json=questions_to_json(ios_stack)\n",
    "aws_stack_json=questions_to_json(aws_stack)"
   ]
  },
  {
   "cell_type": "code",
   "execution_count": null,
   "metadata": {
    "collapsed": true
   },
   "outputs": [],
   "source": [
    "from pandas.io.json import json_normalize"
   ]
  },
  {
   "cell_type": "code",
   "execution_count": null,
   "metadata": {
    "collapsed": true
   },
   "outputs": [],
   "source": [
    "df_android = json_normalize(android_stack_json)"
   ]
  },
  {
   "cell_type": "code",
   "execution_count": null,
   "metadata": {},
   "outputs": [],
   "source": [
    "print(len(android_stack))\n",
    "print(len(ios_stack))\n",
    "print(len(aws_stack))"
   ]
  },
  {
   "cell_type": "code",
   "execution_count": null,
   "metadata": {
    "collapsed": true
   },
   "outputs": [],
   "source": [
    "google_assistant_stack=search_questions('google-assistant-sdk',100)\n",
    "siri_stack=search_questions('siri',100)\n",
    "alexa_stack=search_questions('alexa',100)"
   ]
  },
  {
   "cell_type": "code",
   "execution_count": null,
   "metadata": {},
   "outputs": [],
   "source": [
    "print(len(google_assistant_stack))\n",
    "print(len(siri_stack))\n",
    "print(len(alexa_stack))"
   ]
  },
  {
   "cell_type": "code",
   "execution_count": null,
   "metadata": {},
   "outputs": [],
   "source": [
    "df_siri.sample(1)"
   ]
  },
  {
   "cell_type": "code",
   "execution_count": null,
   "metadata": {},
   "outputs": [],
   "source": [
    "df_alexa.sample(1)"
   ]
  },
  {
   "cell_type": "code",
   "execution_count": null,
   "metadata": {},
   "outputs": [],
   "source": [
    "df_google_assistant.sample(1)"
   ]
  },
  {
   "cell_type": "code",
   "execution_count": 24,
   "metadata": {},
   "outputs": [],
   "source": [
    "categories=df_siri._StoreAppData__genre.tolist()"
   ]
  },
  {
   "cell_type": "code",
   "execution_count": 25,
   "metadata": {},
   "outputs": [],
   "source": [
    "categories_flat_list = [item for sublist in categories for item in sublist]"
   ]
  },
  {
   "cell_type": "code",
   "execution_count": 29,
   "metadata": {},
   "outputs": [
    {
     "name": "stdout",
     "output_type": "stream",
     "text": [
      "Unique categories siri: 22\n"
     ]
    }
   ],
   "source": [
    "categories_set=set(categories_flat_list)\n",
    "print(\"Unique categories siri: \"+str(len(categories_set)))"
   ]
  },
  {
   "cell_type": "code",
   "execution_count": null,
   "metadata": {
    "collapsed": true
   },
   "outputs": [],
   "source": []
  }
 ],
 "metadata": {
  "kernelspec": {
   "display_name": "Python 3",
   "language": "python",
   "name": "python3"
  },
  "language_info": {
   "codemirror_mode": {
    "name": "ipython",
    "version": 3
   },
   "file_extension": ".py",
   "mimetype": "text/x-python",
   "name": "python",
   "nbconvert_exporter": "python",
   "pygments_lexer": "ipython3",
   "version": "3.6.2"
  }
 },
 "nbformat": 4,
 "nbformat_minor": 1
}
